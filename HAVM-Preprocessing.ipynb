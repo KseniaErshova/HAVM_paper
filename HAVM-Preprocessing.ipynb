{
 "cells": [
  {
   "cell_type": "code",
   "execution_count": 10,
   "metadata": {
    "collapsed": true
   },
   "outputs": [],
   "source": [
    "# Load libraries\n",
    "\n",
    "import pandas as pd\n",
    "import numpy as np\n",
    "import matplotlib.pyplot as plt\n",
    "%matplotlib inline\n",
    "\n",
    "import datetime\n",
    "import tqdm\n",
    "import pickle\n",
    "import os\n",
    "import glob\n",
    "\n",
    "\n",
    "# To generate cases database:\n",
    "# Change to True to generate cases database:\n",
    "DATABASE_CASES = False\n"
   ]
  },
  {
   "cell_type": "markdown",
   "metadata": {},
   "source": [
    "# Load and verify data"
   ]
  },
  {
   "cell_type": "code",
   "execution_count": 2,
   "metadata": {},
   "outputs": [
    {
     "name": "stdout",
     "output_type": "stream",
     "text": [
      "Loading...  ./monitoring_all_cases_0918_2236.pkl\n",
      "Done\n"
     ]
    }
   ],
   "source": [
    "# Load data as pandas dataframe\n",
    "\n",
    "########## Read name ###########\n",
    "\n",
    "list_of_files = glob.glob('./monitoring_all_cases_*.pkl') # * means all if need specific format then *.csv\n",
    "latest_file = max(list_of_files, key=os.path.getctime)\n",
    "##########\n",
    "\n",
    "print(\"Loading... \",latest_file)\n",
    "\n",
    "with open(latest_file, \"rb\") as f:\n",
    "    df = pickle.loads(f.read())\n",
    "\n",
    "print(\"Done\")"
   ]
  },
  {
   "cell_type": "markdown",
   "metadata": {},
   "source": [
    "## Meet exclusion criteria"
   ]
  },
  {
   "cell_type": "code",
   "execution_count": 3,
   "metadata": {},
   "outputs": [
    {
     "name": "stdout",
     "output_type": "stream",
     "text": [
      "Original file # of unique IDs:\t 2324\n",
      "New dataframe, # of unique IDs:\t 2288\n",
      "Renaming column 'Unnamed: 0' to 'row_idx'\n"
     ]
    }
   ],
   "source": [
    "# Check and remove patients excluded from the study\n",
    "exclude = pd.read_csv('./excluded_IDs.csv', sep=';', header=None)\n",
    "\n",
    "monitoring_all_cases = df[~df.ID_1.isin(exclude.values.reshape(-1))]\n",
    "\n",
    "# Print\n",
    "print(\"Original file # of unique IDs:\\t\", df.ID_1.unique().shape[0])\n",
    "print(\"New dataframe, # of unique IDs:\\t\", monitoring_all_cases.ID_1.unique().shape[0])\n",
    "\n",
    "# Print\n",
    "print(\"Renaming column 'Unnamed: 0' to 'row_idx'\")\n",
    "monitoring_all_cases = monitoring_all_cases.rename(columns={'Unnamed: 0': 'row_idx'}).copy()\n",
    "\n",
    "\n",
    "# Here we lose 36 patients"
   ]
  },
  {
   "cell_type": "markdown",
   "metadata": {},
   "source": [
    "#### Remove outlier"
   ]
  },
  {
   "cell_type": "code",
   "execution_count": 4,
   "metadata": {
    "collapsed": true
   },
   "outputs": [],
   "source": [
    "# Copy&save dataframe with new name\n",
    "d = monitoring_all_cases.copy()\n",
    "\n",
    "# remove patient with more 1500 days in ICU, he had 2 IDs while stayed\n",
    "d = d[~d.ID_1.isin(['1420/16','6009/12'])]"
   ]
  },
  {
   "cell_type": "markdown",
   "metadata": {},
   "source": [
    "## Meet diagnostic criteria for HAVM"
   ]
  },
  {
   "cell_type": "markdown",
   "metadata": {},
   "source": [
    "#### Keep verified meningitis cases only"
   ]
  },
  {
   "cell_type": "code",
   "execution_count": 5,
   "metadata": {},
   "outputs": [
    {
     "name": "stdout",
     "output_type": "stream",
     "text": [
      "Infected in verified_cases:\t 216\n",
      "Infected found in our dataset:\t 216\n",
      "Not infected, # of IDs:\t\t 2070\n",
      "Total\t\t\t\t 2286\n"
     ]
    }
   ],
   "source": [
    "verified_cases = pd.read_csv('./verified_meningitis_IDs.csv', sep=';', header=None) \n",
    "\n",
    "# Take unique IDs from verified_cases\n",
    "infected = pd.DataFrame(verified_cases[0].unique())\n",
    "infected = infected[infected[0].isin(d.ID_1.unique())]\n",
    "\n",
    "print(\"Infected in verified_cases:\\t\", infected[0].unique().shape[0])\n",
    "print(\"Infected found in our dataset:\\t\", np.intersect1d(d.ID_1.unique(), infected[0].unique()).shape[0])\n",
    "\n",
    "# Find the rest of IDs and correct infection_CNS status (1 to 0 if applicable)\n",
    "not_infected = d.loc[~d.ID_1.isin(infected.values.reshape(-1)), 'ID_1'].unique()\n",
    "d.loc[~d.ID_1.isin(infected[0]),'infection_CNS'] = 0\n",
    "\n",
    "print(\"Not infected, # of IDs:\\t\\t\", not_infected.shape[0])\n",
    "print(\"Total\\t\\t\\t\\t\", not_infected.shape[0] + infected.shape[0])\n"
   ]
  },
  {
   "cell_type": "markdown",
   "metadata": {},
   "source": [
    "_______"
   ]
  },
  {
   "cell_type": "markdown",
   "metadata": {
    "collapsed": true
   },
   "source": [
    "# Generate new features for cases / patients dateset"
   ]
  },
  {
   "cell_type": "markdown",
   "metadata": {},
   "source": [
    "### Define functions"
   ]
  },
  {
   "cell_type": "code",
   "execution_count": 11,
   "metadata": {
    "collapsed": true
   },
   "outputs": [],
   "source": [
    "def return_infection_threshold(d):\n",
    "    assert d.ID_1.unique().shape[0] == 1\n",
    "    if not d.loc[d.infection_CNS == 1].empty:\n",
    "        return d.loc[d.infection_CNS == 1, 'date'].min()\n",
    "    else:\n",
    "        return (X.date.astype('datetime64[ns]').max() + np.timedelta64(1,'D')).strftime(\"%Y-%m-%d\")"
   ]
  },
  {
   "cell_type": "code",
   "execution_count": 12,
   "metadata": {
    "collapsed": true
   },
   "outputs": [],
   "source": [
    "def feature_generator(X, col_name, param_name, agg_func='sum', only_before_infection=False):\n",
    "    \"\"\"\n",
    "    Calculate how many days param was '1' for one ID\n",
    "    X -- dataframe with data\n",
    "    col_name -- column where to store\n",
    "    param_name -- param to count agg_func\n",
    "    agg_func -- 'sum' or 'mean'\n",
    "    \n",
    "    \"\"\"\n",
    "    for idx in X.ID_1.unique():\n",
    "        if agg_func == 'sum':\n",
    "            if only_before_infection:\n",
    "                upper_bound = return_infection_threshold(X.loc[X.ID_1 == idx])\n",
    "                X.loc[X.ID_1 == idx, col_name] = X.loc[(X.ID_1 == idx) & (X.date < upper_bound), param_name].sum()\n",
    "            else:\n",
    "                X.loc[X.ID_1 == idx, col_name] = X.loc[X.ID_1 == idx, param_name].sum()\n",
    "        elif agg_func == 'mean':\n",
    "            if only_before_infection:\n",
    "                upper_bound = return_infection_threshold(X.loc[X.ID_1 == idx])\n",
    "                X.loc[X.ID_1 == idx, col_name] = X.loc[(X.ID_1 == idx) & (X.date < upper_bound), param_name].mean()\n",
    "            else:\n",
    "                X.loc[X.ID_1 == idx, col_name] = X.loc[X.ID_1 == idx, param_name].mean()\n",
    "        elif agg_func == 'max':\n",
    "            if only_before_infection:\n",
    "                upper_bound = return_infection_threshold(X.loc[X.ID_1 == idx])\n",
    "                X.loc[X.ID_1 == idx, col_name] = X.loc[(X.ID_1 == idx) & (X.date < upper_bound), param_name].max()\n",
    "            else:\n",
    "                X.loc[X.ID_1 == idx, col_name] = X.loc[X.ID_1 == idx, param_name].max()\n",
    "        elif agg_func == 'min':\n",
    "            if only_before_infection:\n",
    "                upper_bound = return_infection_threshold(X.loc[X.ID_1 == idx])\n",
    "                X.loc[X.ID_1 == idx, col_name] = X.loc[(X.ID_1 == idx) & (X.date < upper_bound), param_name].min()\n",
    "            else:\n",
    "                X.loc[X.ID_1 == idx, col_name] = X.loc[X.ID_1 == idx, param_name].min()\n",
    "        elif agg_func == 'first':\n",
    "            if only_before_infection:\n",
    "                upper_bound = return_infection_threshold(X.loc[X.ID_1 == idx])\n",
    "                X.loc[X.ID_1 == idx, col_name] = X.loc[(X.ID_1 == idx) & (X.date < upper_bound), param_name].iloc[0]\n",
    "            else:\n",
    "                X.loc[X.ID_1 == idx, col_name] = X.loc[X.ID_1 == idx, param_name].iloc[0]\n",
    "        elif agg_func == 'first_time':\n",
    "            if only_before_infection:\n",
    "                upper_bound = return_infection_threshold(X.loc[X.ID_1 == idx])\n",
    "                if not X.loc[(X.ID_1 == idx) & (X[param_name] == 1) & (X.date < upper_bound), 'day_in_ICU'].empty:\n",
    "                    X.loc[X.ID_1 == idx, col_name] = X.loc[(X.ID_1 == idx) & (X[param_name] == 1) &\n",
    "                                                           (X.date < upper_bound), 'day_in_ICU'].iloc[0],\n",
    "            else:\n",
    "                if not X.loc[(X.ID_1 == idx) & (X[param_name] == 1), 'day_in_ICU'].empty:\n",
    "                    X.loc[X.ID_1 == idx, col_name] = X.loc[(X.ID_1 == idx) & (X[param_name] == 1), \n",
    "                                                           'day_in_ICU'].iloc[0],\n",
    "        else:\n",
    "            raise ValueError(\"use 'sum', 'mean' or 'max'\")\n",
    "    return X"
   ]
  },
  {
   "cell_type": "markdown",
   "metadata": {},
   "source": [
    "__Function to generate cases from dataset__"
   ]
  },
  {
   "cell_type": "code",
   "execution_count": 13,
   "metadata": {
    "collapsed": true
   },
   "outputs": [],
   "source": [
    "def restore_dateindex(d):\n",
    "    '''\n",
    "    This functions restore missing dates within range min() - max() and 'day_in_ICU'\n",
    "    d -- pd.Dataframe() with 'date' column\n",
    "    '''\n",
    "    d = d.sort_values('day_in_ICU')\n",
    "    # Store min and max date to restore all values within this range\n",
    "    date_min = d.date.min()\n",
    "    date_max = d.date.max()\n",
    "    \n",
    "    restored_index = np.arange(date_min,\n",
    "                               date_min + np.timedelta64(int(d.day_in_ICU.max() - d.day_in_ICU.min()),'D'),\n",
    "                               np.timedelta64(1,'D'), dtype='datetime64')\n",
    "    \n",
    "    \n",
    "    d = d.set_index('date')\n",
    "    d = d.reindex(restored_index)\n",
    "    d = d.fillna(method='ffill')\n",
    "    \n",
    "    d.day_in_ICU = np.arange(d.day_in_ICU.min(), d.day_in_ICU.min() + d.shape[0])\n",
    "    \n",
    "    return d\n",
    "    \n",
    "def split_dataframe(d):\n",
    "    \"\"\"\n",
    "    Split dataframe into cases by ID\n",
    "    \"\"\"\n",
    "    d = d.sort_values('date')\n",
    "    d = d.reset_index()\n",
    "    pivot_points = d[d.day_in_ICU.diff() <= 0].index\n",
    "    if len(pivot_points) > 0:\n",
    "        res = []\n",
    "        for i in range(len(pivot_points) + 1):\n",
    "            if i == 0: # Left case\n",
    "                left = None\n",
    "                right = pivot_points[i] - 1\n",
    "            elif i == len(pivot_points): # Right case\n",
    "                left = pivot_points[i-1]\n",
    "                right = None\n",
    "            else: # All middle cases\n",
    "                left = pivot_points[i-1]\n",
    "                right = pivot_points[i] - 1\n",
    "\n",
    "            res.append(d.loc[left:right,:].copy())\n",
    "            \n",
    "        return res\n",
    "    else:\n",
    "        return [d]"
   ]
  },
  {
   "cell_type": "code",
   "execution_count": 14,
   "metadata": {
    "collapsed": true
   },
   "outputs": [],
   "source": [
    "# progress_bar\n",
    "class progress_bar:\n",
    "    def __init__(self):\n",
    "        self.status = 0\n",
    "    \n",
    "    def reset(self):\n",
    "        self.status = 0\n",
    "    \n",
    "    def pprint(self):\n",
    "        if self.status == 0:\n",
    "            print(datetime.datetime.now())\n",
    "            self.status = datetime.datetime.now()\n",
    "        else:\n",
    "            print(datetime.datetime.now() - self.status)\n",
    "            \n"
   ]
  },
  {
   "cell_type": "markdown",
   "metadata": {},
   "source": [
    "___"
   ]
  },
  {
   "cell_type": "markdown",
   "metadata": {},
   "source": [
    "## Compose patients dataset with new features"
   ]
  },
  {
   "cell_type": "markdown",
   "metadata": {},
   "source": [
    "___________"
   ]
  },
  {
   "cell_type": "code",
   "execution_count": 11,
   "metadata": {
    "collapsed": true
   },
   "outputs": [],
   "source": [
    "# ATTENTION\n",
    "if DATABASE_CASES:\n",
    "    X.ID_1 = X.ID_1 + X.subid"
   ]
  },
  {
   "cell_type": "markdown",
   "metadata": {},
   "source": [
    "___"
   ]
  },
  {
   "cell_type": "markdown",
   "metadata": {},
   "source": [
    "### Generate and attach new features"
   ]
  },
  {
   "cell_type": "code",
   "execution_count": 10,
   "metadata": {},
   "outputs": [
    {
     "name": "stdout",
     "output_type": "stream",
     "text": [
      "2017-09-18 22:52:09.851826\n",
      "CNS infection\n",
      "0:00:47.536380\n",
      "1\n",
      "0:02:11.883244\n",
      "2\n",
      "0:03:44.357303\n",
      "3\n",
      "0:09:55.986182\n",
      "4\n",
      "0:11:59.225562\n",
      "5\n",
      "0:13:40.194631\n",
      "6\n",
      "0:15:37.465810\n",
      "7\n",
      "0:17:37.972152\n",
      "8\n",
      "0:19:01.167240\n"
     ]
    },
    {
     "name": "stderr",
     "output_type": "stream",
     "text": [
      "\r",
      "  0%|          | 0/10 [00:00<?, ?it/s]"
     ]
    },
    {
     "name": "stdout",
     "output_type": "stream",
     "text": [
      "9\n",
      "0:20:59.007729\n"
     ]
    },
    {
     "name": "stderr",
     "output_type": "stream",
     "text": [
      "100%|██████████| 10/10 [08:20<00:00, 49.64s/it]"
     ]
    },
    {
     "name": "stdout",
     "output_type": "stream",
     "text": [
      "Finished in..\n",
      "0:29:19.290031\n"
     ]
    },
    {
     "name": "stderr",
     "output_type": "stream",
     "text": [
      "\n"
     ]
    }
   ],
   "source": [
    "X = d.copy()\n",
    "\n",
    "pb = progress_bar()\n",
    "pb.pprint()\n",
    "\n",
    "\n",
    "###################################### CNS infection\n",
    "# ----------------------------------------------------------------------------------\n",
    "# Length of CNS unfection, total, days\n",
    "for id_ in X.loc[X.infection_CNS == 1, 'ID_1'].unique():\n",
    "    tmp = X.loc[X.ID_1 == id_,:]\n",
    "    date_end = tmp.loc[tmp.infection_CNS == 1, 'date'].max()\n",
    "    date_start = tmp['infection_CNS_date'].iloc[0]\n",
    "    X.loc[X.ID_1 == id_,'infection_CNS_length'] =  date_end - date_start\n",
    "\n",
    "# ----------------------------------------------------------------------------------\n",
    "#  The length of CNS infection from first day in ICU, days; 0 if No\n",
    "X = feature_generator(X, 'infection_CNS_days', 'infection_CNS', agg_func='sum')\n",
    "\n",
    "# ----------------------------------------------------------------------------------\n",
    "# On which day after the ICU admission CNS infection started. 0 if No respiratory infection\n",
    "X = feature_generator(X, 'infection_CNS_1st_day', 'infection_CNS', agg_func='first_time')\n",
    "\n",
    "print('CNS infection')\n",
    "pb.pprint()\n",
    "\n",
    "###################################################### DEVICES\n",
    "########### 1 EVD\n",
    "# ----------------------------------------------------------------------------------\n",
    "# The length of EVD placement, days.\n",
    "X = feature_generator(X, 'EVD_days', 'EVD')\n",
    "\n",
    "# ----------------------------------------------------------------------------------\n",
    "# EVD-days before infection\n",
    "X = feature_generator(X, 'EVD_days_bi', 'EVD', only_before_infection=True)\n",
    "\n",
    "# ----------------------------------------------------------------------------------\n",
    "\n",
    "# EVD_bi == 1 всем у кого до момента infection_CNS == 1 был EVD (даже если infection_CNS всегда 0)\n",
    "# EVD before infection (binary)\n",
    "X.loc[:,'EVD_bi'] = X.loc[:,'EVD_days_bi'].apply(lambda x: 1 if x > 0 else 0)\n",
    "\n",
    "# ----------------------------------------------------------------------------------\n",
    "# On which day after the ICU admission EVD has been placed\n",
    "COL_NAME = 'EVD_1st_day'\n",
    "for id_ in X.loc[X.EVD == 1,'ID_1'].unique():\n",
    "    X.loc[X.ID_1 == id_, COL_NAME] = X.loc[(X.ID_1 == id_) & (X.EVD == 1), 'day_in_ICU'].iloc[0]\n",
    "\n",
    "print('1')\n",
    "pb.pprint()\n",
    "\n",
    "    \n",
    "########## 2 ICP monitor\n",
    "# ----------------------------------------------------------------------------------\n",
    "# 11 The length of ICP-monitor placement, days.\n",
    "X = feature_generator(X, 'ICP_monitor_days', 'ICP_monitor')\n",
    "\n",
    "# ----------------------------------------------------------------------------------\n",
    "# ICP-days before infection\n",
    "X = feature_generator(X, 'ICP_monitor_days_bi', 'ICP_monitor', only_before_infection=True)\n",
    " \n",
    "# ----------------------------------------------------------------------------------\n",
    "# ICP before infection (binary)\n",
    "X.loc[:,'ICP_monitor_bi'] = X.loc[:,'ICP_monitor_days_bi'].apply(lambda x: 1 if x > 0 else 0)\n",
    "\n",
    "# ----------------------------------------------------------------------------------\n",
    "# On which day after the ICU admission ICP monitor has been placed. 0 if No ICP-monitor\n",
    "X = feature_generator(X, 'ICP_monitor_1st_day', 'ICP_monitor', agg_func='first_time')\n",
    "\n",
    "print('2')\n",
    "pb.pprint()\n",
    "\n",
    "\n",
    "########### 3 Intubation tube\n",
    "# ----------------------------------------------------------------------------------\n",
    "# The length of intubation (or tracheostomy) tube placement, days. 0 if No intubation tube\n",
    "X['intubation_tube_binary'] = X.intubation_tube.apply(lambda x: 1 if x > 0 else 0)\n",
    "X = feature_generator(X, 'intubation_tube_days', 'intubation_tube_binary')\n",
    "\n",
    "# ----------------------------------------------------------------------------------\n",
    "# Intubation tube-days before infection\n",
    "X = feature_generator(X, 'intubation_tube_days_bi', 'intubation_tube_binary', only_before_infection=True)\n",
    "# X.drop('intubation_tube_binary', axis=1, inplace=True)\n",
    "\n",
    "# ----------------------------------------------------------------------------------\n",
    "# Intubation tube before infection (binary)\n",
    "X.loc[:,'intubation_tube_bi'] = X.loc[:,'intubation_tube_days_bi'].apply(lambda x: 1 if x > 0 else 0)\n",
    "\n",
    "# ----------------------------------------------------------------------------------\n",
    "# The most frequent value in \"intubation_tube\"\n",
    "X[pd.get_dummies(X.intubation_tube).columns.values] = pd.get_dummies(X.intubation_tube)\n",
    "X = feature_generator(X, '0.0_', 0.0)\n",
    "X = feature_generator(X, '1.0_', 1.0)\n",
    "X = feature_generator(X, '2.0_', 2.0)\n",
    "X = feature_generator(X, '3.0_', 3.0)\n",
    "X['most_frequent_intubation_tube'] = [np.argmax(i) + 1 for i in X.loc[:,['0.0_', '1.0_', '2.0_', '3.0_']].as_matrix()]\n",
    "\n",
    "cols_to_drop = [str(x) + '.0_' for x in range(4)] + [float(x) for x in range(4)]\n",
    "X.drop(cols_to_drop, axis=1, inplace=True)\n",
    "\n",
    "# ----------------------------------------------------------------------------------\n",
    "# The most frequent value in \"intubation_tube\" BEFORE INFECTION\n",
    "X[pd.get_dummies(X.intubation_tube).columns.values] = pd.get_dummies(X.intubation_tube)\n",
    "X = feature_generator(X, '0.0_', 0.0, only_before_infection=True)\n",
    "X = feature_generator(X, '1.0_', 1.0, only_before_infection=True)\n",
    "X = feature_generator(X, '2.0_', 2.0, only_before_infection=True)\n",
    "X = feature_generator(X, '3.0_', 3.0, only_before_infection=True)\n",
    "\n",
    "X['most_frequent_intubation_tube_bi'] = [np.argmax(i) + 1 for i in X.loc[:,['0.0_',\n",
    "                                                                            '1.0_', '2.0_', '3.0_']].as_matrix()]\n",
    "\n",
    "cols_to_drop = [str(x) + '.0_' for x in range(4)] + [float(x) for x in range(4)]\n",
    "X.drop(cols_to_drop, axis=1, inplace=True)\n",
    "\n",
    "print('3')\n",
    "pb.pprint()\n",
    "\n",
    "\n",
    "########### 4 Central line\n",
    "# ----------------------------------------------------------------------------------\n",
    "# The length of central line placement, days, 0 if No central line\n",
    "X = feature_generator(X, 'central_line_days', 'central_line')\n",
    "\n",
    "# ----------------------------------------------------------------------------------\n",
    "# Central line-days before infection\n",
    "X = feature_generator(X, 'central_line_days_bi', 'central_line', only_before_infection=True)\n",
    "\n",
    "# ----------------------------------------------------------------------------------\n",
    "# Central line before infection (binary)\n",
    "X.loc[:,'central_line_bi'] = X.loc[:,'central_line_days_bi'].apply(lambda x: 1 if x > 0 else 0)\n",
    "\n",
    "# ----------------------------------------------------------------------------------\n",
    "# On which day after the ICU admission central line has been placed\n",
    "X = feature_generator(X, 'central_line_1st_day', 'central_line', agg_func='first_time')\n",
    "\n",
    "print('4')\n",
    "pb.pprint()\n",
    "\n",
    "\n",
    "########## 5 Arterial line\n",
    "# ----------------------------------------------------------------------------------\n",
    "# The length of arterial line placement, days, 0 if No central line\n",
    "X = feature_generator(X, 'invasive_BP_days', 'invasive_BP')\n",
    "\n",
    "# ----------------------------------------------------------------------------------\n",
    "# Arterial line-days before infection\n",
    "X = feature_generator(X, 'invasive_BP_days_bi', 'invasive_BP', only_before_infection=True)\n",
    "\n",
    "# ----------------------------------------------------------------------------------\n",
    "# Arterial line before infection (binary)\n",
    "X.loc[:,'invasive_BP_bi'] = X.loc[:,'invasive_BP_days_bi'].apply(lambda x: 1 if x > 0 else 0)\n",
    "\n",
    "# ----------------------------------------------------------------------------------\n",
    "# On which day after the ICU admission invasive_BP has been placed\n",
    "X = feature_generator(X, 'invasive_BP_1st_day', 'invasive_BP', agg_func='first_time')\n",
    "\n",
    "print('5')\n",
    "pb.pprint()\n",
    "\n",
    "\n",
    "########## 6 Urinary catheter\n",
    "# ----------------------------------------------------------------------------------\n",
    "# The length of urinary catheter placement, days\n",
    "X = feature_generator(X, 'urinary_catheter_days', 'urinary_catheter')\n",
    "\n",
    "# ----------------------------------------------------------------------------------\n",
    "# Urinary catheter-days before infection\n",
    "X = feature_generator(X, 'urinary_catheter_days_bi', 'urinary_catheter', only_before_infection=True)\n",
    "\n",
    "# ----------------------------------------------------------------------------------\n",
    "# Urinary catheter before infection (binary)\n",
    "X.loc[:,'urinary_catheter_bi'] = X.loc[:,'urinary_catheter_days_bi'].apply(lambda x: 1 if x > 0 else 0)\n",
    "\n",
    "# ----------------------------------------------------------------------------------\n",
    "# On which day after the ICU admission urinary_catheter has been placed\n",
    "X = feature_generator(X, 'urinary_catheter_1st_day', 'urinary_catheter', agg_func='first_time')\n",
    "\n",
    "print('6')\n",
    "pb.pprint()\n",
    "\n",
    "\n",
    "########## 7 Feeding tube\n",
    "# ----------------------------------------------------------------------------------\n",
    "# The length of feeding tube placement, days.\n",
    "X = feature_generator(X, 'feeding_tube_days', 'feeding_tube')\n",
    "\n",
    "# ----------------------------------------------------------------------------------\n",
    "# Feeding tube-days before infection\n",
    "X = feature_generator(X, 'feeding_tube_days_bi', 'feeding_tube', only_before_infection=True)\n",
    "\n",
    "# ----------------------------------------------------------------------------------\n",
    "# Feeding tube before infection (binary)\n",
    "X.loc[:,'feeding_tube_bi'] = X.loc[:,'feeding_tube_days_bi'].apply(lambda x: 1 if x > 0 else 0)\n",
    "\n",
    "# ----------------------------------------------------------------------------------\n",
    "# On which day after the ICU admission feeding_tube has been placed\n",
    "X = feature_generator(X, 'feeding_tube_1st_day', 'feeding_tube', agg_func='first_time')\n",
    "\n",
    "print('7')\n",
    "pb.pprint()\n",
    "\n",
    "\n",
    "######### 8 Pleural drainage\n",
    "# ----------------------------------------------------------------------------------\n",
    "# 26 The length of pleural drainage placement, days.\n",
    "X = feature_generator(X, 'pleural_drainage_days', 'pleural_drainage')\n",
    "\n",
    "# ----------------------------------------------------------------------------------\n",
    "# Pleural drainage before infection\n",
    "X = feature_generator(X, 'pleural_drainage_days_bi', 'pleural_drainage', only_before_infection=True)\n",
    "\n",
    "# ----------------------------------------------------------------------------------\n",
    "# Pleural drainage before infection (binary)\n",
    "X.loc[:,'pleural_drainage_bi'] = X.loc[:,'pleural_drainage_days_bi'].apply(lambda x: 1 if x > 0 else 0)\n",
    "\n",
    "print('8')\n",
    "pb.pprint()\n",
    "\n",
    "\n",
    "########## 9 Mechanical ventilation\n",
    "# ----------------------------------------------------------------------------------\n",
    "# 28 The length of mechanical ventilation, days. 0 if No mechanical ventilation\n",
    "X = feature_generator(X, 'mechanical_ventilation_days', 'mechanical_ventilation')\n",
    "\n",
    "# ----------------------------------------------------------------------------------\n",
    "# Ventilation-days before infection\n",
    "X = feature_generator(X, 'mechanical_ventilation_days_bi', 'mechanical_ventilation', only_before_infection=True)\n",
    "\n",
    "# ----------------------------------------------------------------------------------\n",
    "# Ventilation before infection (binary)\n",
    "X.loc[:,'mechanical_ventilation_bi'] = X.loc[:,'mechanical_ventilation_days_bi'].apply(lambda x: 1 if x > 0 else 0)\n",
    "\n",
    "# ----------------------------------------------------------------------------------\n",
    "# On which day after the ICU admission mechanical_ventilation has been placed\n",
    "X = feature_generator(X, 'mechanical_ventilation_1st_day', 'mechanical_ventilation', agg_func='first_time')\n",
    "\n",
    "print('9')\n",
    "pb.pprint()\n",
    "\n",
    "\n",
    "########### 10 Other interventions\n",
    "# ----------------------------------------------------------------------------------\n",
    "# Other interventions before infection (binary)\n",
    "cols_to_add = ['hypothermia', 'hemodialysis', 'total_parenteral_feeding',\n",
    "               'purulent_sputum', 'X-ray_infiltration', 'intestinal_dysfunction',\n",
    "               'convulsions_day', 'sedation', 'anxiolytics ', 'vasopressors']\n",
    "\n",
    "for col in tqdm.tqdm(cols_to_add):\n",
    "    X = feature_generator(X, col + '_days_bi', col, only_before_infection=True)\n",
    "    X.loc[:, col + '_bi'] = X.loc[:, col + '_days_bi'].apply(lambda x: 1 if x > 0 else 0)\n",
    "\n",
    "# ----------------------------------------------------------------------------------\n",
    "# On which day after the ICU admission mechanical_ventilation has been placed\n",
    "X = feature_generator(X, 'intestinal_dysfunction_1st_day', 'intestinal_dysfunction', agg_func='first_time')\n",
    "\n",
    "\n",
    "print(\"Finished in..\")\n",
    "pb.pprint()\n",
    "\n",
    "\n",
    "# About 30 min, 59 new features"
   ]
  },
  {
   "cell_type": "code",
   "execution_count": 11,
   "metadata": {
    "collapsed": true
   },
   "outputs": [],
   "source": [
    "# Save intermediate dataset just in case\n",
    "\n",
    "SAVE_DUMP = True\n",
    "\n",
    "if SAVE_DUMP:\n",
    "    with open(\"X.pkl\", 'wb') as f:\n",
    "        pickle.dump(X, f)"
   ]
  },
  {
   "cell_type": "code",
   "execution_count": 12,
   "metadata": {},
   "outputs": [
    {
     "name": "stdout",
     "output_type": "stream",
     "text": [
      "Number of Rows:\t\t 40366\n",
      "Number of Columns:\t 137\n",
      "Unique IDs:\t\t 2286\n",
      "Columns:\t\t\n",
      " ['ID' 'ID_1' 'date' 'year' 'month' 'day_in_ICU' 'EVD' 'ICP_monitor'\n",
      " 'intubation_tube' 'central_line' 'invasive_BP' 'urinary_catheter'\n",
      " 'feeding_tube' 'pleural_drainage' 'mechanical_ventilation' 'FiO2'\n",
      " 'hypothermia' 'hemodialysis' 'total_parenteral_feeding'\n",
      " 'tracheal_sanations' 'purulent_sputum' 'X-ray_infiltration'\n",
      " 'intestinal_dysfunction' 'conscious_level' 'RASS' 'convulsions_day' 'PBSS'\n",
      " 'CSF_leakage' 'wound_liquorrhea' 'sedation' 'anxiolytics ' 'vasopressors'\n",
      " 'antibiotic_1' 'antibiotic_2' 'antibiotic_3' 'antibiotic_4'\n",
      " 'infection_CNS' 'infection_respiratory' 'infection_bloodstream'\n",
      " 'infection_urinary' 'infection_wound' 'infection_other' 'CHARLSON'\n",
      " 'antibiotics_total' 'temperature' 'cases' 'day_in_ICU_max'\n",
      " 'days_in_hospital' 'disease_id' 'disease_name' 'disease_type' 'gender'\n",
      " 'infection_CNS_date' 'ot_craniotomy' 'ot_craniotomy_len'\n",
      " 'ot_craniotomy_name' 'ot_device' 'ot_device_len' 'ot_device_name'\n",
      " 'ot_endonasal' 'ot_endonasal_len' 'ot_endonasal_name' 'ot_endovascular'\n",
      " 'ot_endovascular_len' 'ot_endovascular_name' 'ot_null' 'ot_null_len'\n",
      " 'ot_null_name' 'ot_other' 'ot_other_len' 'ot_other_name' 'ot_spinal'\n",
      " 'ot_spinal_len' 'ot_spinal_name' 'outcome' 'subid' 'age'\n",
      " 'infection_CNS_length' 'infection_CNS_days' 'infection_CNS_1st_day'\n",
      " 'EVD_days' 'EVD_days_bi' 'EVD_bi' 'EVD_1st_day' 'ICP_monitor_days'\n",
      " 'ICP_monitor_days_bi' 'ICP_monitor_bi' 'ICP_monitor_1st_day'\n",
      " 'intubation_tube_binary' 'intubation_tube_days' 'intubation_tube_days_bi'\n",
      " 'intubation_tube_bi' 'most_frequent_intubation_tube'\n",
      " 'most_frequent_intubation_tube_bi' 'central_line_days'\n",
      " 'central_line_days_bi' 'central_line_bi' 'central_line_1st_day'\n",
      " 'invasive_BP_days' 'invasive_BP_days_bi' 'invasive_BP_bi'\n",
      " 'invasive_BP_1st_day' 'urinary_catheter_days' 'urinary_catheter_days_bi'\n",
      " 'urinary_catheter_bi' 'urinary_catheter_1st_day' 'feeding_tube_days'\n",
      " 'feeding_tube_days_bi' 'feeding_tube_bi' 'feeding_tube_1st_day'\n",
      " 'pleural_drainage_days' 'pleural_drainage_days_bi' 'pleural_drainage_bi'\n",
      " 'mechanical_ventilation_days' 'mechanical_ventilation_days_bi'\n",
      " 'mechanical_ventilation_bi' 'mechanical_ventilation_1st_day'\n",
      " 'hypothermia_days_bi' 'hypothermia_bi' 'hemodialysis_days_bi'\n",
      " 'hemodialysis_bi' 'total_parenteral_feeding_days_bi'\n",
      " 'total_parenteral_feeding_bi' 'purulent_sputum_days_bi'\n",
      " 'purulent_sputum_bi' 'X-ray_infiltration_days_bi' 'X-ray_infiltration_bi'\n",
      " 'intestinal_dysfunction_days_bi' 'intestinal_dysfunction_bi'\n",
      " 'convulsions_day_days_bi' 'convulsions_day_bi' 'sedation_days_bi'\n",
      " 'sedation_bi' 'anxiolytics _days_bi' 'anxiolytics _bi'\n",
      " 'vasopressors_days_bi' 'vasopressors_bi']\n"
     ]
    }
   ],
   "source": [
    "# Define info function\n",
    "def print_info(d):\n",
    "    print(\"Number of Rows:\\t\\t\", d.shape[0])\n",
    "    print(\"Number of Columns:\\t\", d.shape[1])\n",
    "    print(\"Unique IDs:\\t\\t\", d.ID_1.unique().shape[0])\n",
    "    print(\"Columns:\\t\\t\\n\", d.columns.values)\n",
    "    \n",
    "print_info(X)"
   ]
  },
  {
   "cell_type": "markdown",
   "metadata": {},
   "source": [
    "___________________"
   ]
  },
  {
   "cell_type": "code",
   "execution_count": 13,
   "metadata": {},
   "outputs": [
    {
     "name": "stdout",
     "output_type": "stream",
     "text": [
      "0:29:21.696007\n",
      "1\n",
      "0:30:44.665245\n",
      "2\n",
      "0:32:11.889400\n",
      "3\n",
      "0:34:57.560403\n",
      "4\n",
      "0:46:34.264786\n",
      "5\n",
      "0:47:49.023544\n",
      "6\n",
      "0:49:07.930785\n",
      "7\n",
      "0:50:48.557845\n",
      "8\n",
      "0:52:25.298709\n",
      "9\n",
      "0:56:54.376512\n",
      "Finished in..\n",
      "0:57:24.084779\n"
     ]
    }
   ],
   "source": [
    "LOAD_DUMP = True\n",
    "if LOAD_DUMP:\n",
    "    with open(\"X.pkl\", \"rb\") as f:\n",
    "        bin_data = f.read()\n",
    "        X = pickle.loads(bin_data)\n",
    "\n",
    "##################################### MEASUREMENTS\n",
    "pb.pprint()\n",
    "########### 1 FiO2\n",
    "# ----------------------------------------------------------------------------------\n",
    "# Mean FiO2 of all days of mechanical ventilation.  FiO2 = 21 if No ventilation\n",
    "X = feature_generator(X, 'mean_FiO2', 'FiO2', agg_func='mean')\n",
    "\n",
    "# ----------------------------------------------------------------------------------\n",
    "# Mean FiO2 before infection\n",
    "X = feature_generator(X, 'mean_FiO2_bi', 'FiO2', agg_func='mean', only_before_infection=True)\n",
    "\n",
    "print('1')\n",
    "pb.pprint()\n",
    "\n",
    "\n",
    "########## 2 Tracheal sanations\n",
    "# ----------------------------------------------------------------------------------\n",
    "# Number of tracheal sanations per day. Mean of all days of observation. 0 if no sanations\n",
    "X = feature_generator(X, 'mean_tracheal_sanations_per_day', 'tracheal_sanations', agg_func='mean')\n",
    "\n",
    "# ----------------------------------------------------------------------------------\n",
    "# Mean tracheal sanations per day before infection\n",
    "X = feature_generator(X, 'mean_tracheal_sanations_per_day_bi', 'tracheal_sanations',\n",
    "                      agg_func='mean', only_before_infection=True)\n",
    "print('2')\n",
    "pb.pprint()\n",
    "\n",
    "\n",
    "########## 3 Fever\n",
    "# ----------------------------------------------------------------------------------\n",
    "# Fever (temperature higher than 37.5C)\n",
    "X['fever'] = X.temperature.apply(lambda x: int(x > 37.5))\n",
    "\n",
    "# ----------------------------------------------------------------------------------\n",
    "# The length of fever, days\n",
    "X = feature_generator(X, 'fever_days', 'fever')\n",
    "\n",
    "# ----------------------------------------------------------------------------------\n",
    "# Fever-days before infection\n",
    "X = feature_generator(X, 'fever_days_bi', 'fever', only_before_infection=True)\n",
    "\n",
    "# ----------------------------------------------------------------------------------\n",
    "# Fever before infection (binary)\n",
    "X.loc[:,'fever_bi'] = X.loc[:,'fever_days_bi'].apply(lambda x: 1 if x > 0 else 0)\n",
    "\n",
    "# ----------------------------------------------------------------------------------\n",
    "# Maximum body temperature\n",
    "X = feature_generator(X, 'max_temperature', 'temperature', agg_func='max')\n",
    "\n",
    "# ----------------------------------------------------------------------------------\n",
    "# Here and below value  == np.NaN (max_temperature_bi), if a patient has infection since day 1 in ICU\n",
    "# Maximum body temperature before infection\n",
    "X = feature_generator(X, 'max_temperature_bi', 'temperature', agg_func='max',\n",
    "                      only_before_infection=True)\n",
    "print('3')\n",
    "pb.pprint()\n",
    "\n",
    "######## 4 Conscious level\n",
    "# ----------------------------------------------------------------------------------\n",
    "# Minimum conscious level. Min out of all days in the ICU\n",
    "X = feature_generator(X, 'min_conscious_level', 'conscious_level', agg_func='min')\n",
    "\n",
    "# ----------------------------------------------------------------------------------\n",
    "# Minimum conscious level befoe infection\n",
    "X = feature_generator(X, 'min_conscious_level_bi', 'conscious_level', agg_func='min',\n",
    "                      only_before_infection=True)\n",
    "\n",
    "# ----------------------------------------------------------------------------------\n",
    "# The most frequent value in \"conscious_level\"\n",
    "X[pd.get_dummies(X.conscious_level).columns.values] = pd.get_dummies(X.conscious_level)\n",
    "X = feature_generator(X, '1.0_', 1.0)\n",
    "X = feature_generator(X, '2.0_', 2.0)\n",
    "X = feature_generator(X, '3.0_', 3.0)\n",
    "X = feature_generator(X, '4.0_', 4.0)\n",
    "X = feature_generator(X, '5.0_', 5.0)\n",
    "X = feature_generator(X, '6.0_', 6.0)\n",
    "X = feature_generator(X, '7.0_', 7.0)\n",
    "X['most_frequent_conscious_level'] = [np.argmax(i) + 1 for i in \n",
    "                                      X.loc[:,['1.0_', '2.0_', '3.0_', '4.0_', '5.0_', '6.0_', '7.0_']].as_matrix()]\n",
    "\n",
    "cols_to_drop = [str(x) + '.0_' for x in range(1, 8)] + [float(x) for x in range(1, 8)]\n",
    "X.drop(cols_to_drop, axis=1, inplace=True)\n",
    "\n",
    "# ----------------------------------------------------------------------------------\n",
    "# The most frequent value in \"conscious_level\" before infection\n",
    "X[pd.get_dummies(X.conscious_level).columns.values] = pd.get_dummies(X.conscious_level)\n",
    "X = feature_generator(X, '1.0_', 1.0, only_before_infection=True)\n",
    "X = feature_generator(X, '2.0_', 2.0, only_before_infection=True)\n",
    "X = feature_generator(X, '3.0_', 3.0, only_before_infection=True)\n",
    "X = feature_generator(X, '4.0_', 4.0, only_before_infection=True)\n",
    "X = feature_generator(X, '5.0_', 5.0, only_before_infection=True)\n",
    "X = feature_generator(X, '6.0_', 6.0, only_before_infection=True)\n",
    "X = feature_generator(X, '7.0_', 7.0, only_before_infection=True)\n",
    "X['most_frequent_conscious_level_bi'] = [np.argmax(i) + 1 for i in \n",
    "                                      X.loc[:,['1.0_', '2.0_', '3.0_', '4.0_', '5.0_', '6.0_', '7.0_']].as_matrix()]\n",
    "\n",
    "cols_to_drop = [str(x) + '.0_' for x in range(1, 8)] + [float(x) for x in range(1, 8)]\n",
    "X.drop(cols_to_drop, axis=1, inplace=True)\n",
    "\n",
    "# ----------------------------------------------------------------------------------\n",
    "# Length of most frequent conscious level + before infection\n",
    "X.loc[:,'most_frequent_conscious_level_binary'] = X.loc[X.conscious_level == X.most_frequent_conscious_level,:]\n",
    "X = feature_generator(X, 'most_frequent_conscious_level_days_bi',\n",
    "                      'most_frequent_conscious_level_binary', agg_func='sum', only_before_infection=True)\n",
    "\n",
    "print('4')\n",
    "pb.pprint()\n",
    "\n",
    "\n",
    "######### 5 RASS\n",
    "# ----------------------------------------------------------------------------------\n",
    "# Minimum score, RASS scale. Min out of all days in the ICU\n",
    "X = feature_generator(X, 'min_RASS', 'RASS', agg_func='min')\n",
    "\n",
    "# ----------------------------------------------------------------------------------\n",
    "# Minimum score, RASS scale, before infection\n",
    "X = feature_generator(X, 'min_RASS_bi', 'RASS', agg_func='min',\n",
    "                      only_before_infection=True)\n",
    "print('5')\n",
    "pb.pprint()\n",
    "\n",
    "\n",
    "######### 6 PBSS\n",
    "# ----------------------------------------------------------------------------------\n",
    "# Mean PBSS score of all days of observation.\n",
    "X = feature_generator(X, 'mean_PBSS', 'PBSS', agg_func='mean')\n",
    "\n",
    "# ----------------------------------------------------------------------------------\n",
    "# Mean PBSS score before infection\n",
    "X = feature_generator(X, 'mean_PBSS_bi', 'PBSS', agg_func='mean',\n",
    "                      only_before_infection=True)\n",
    "print('6')\n",
    "pb.pprint()\n",
    "\n",
    "\n",
    "######### 7 Wound liquorrhea\n",
    "# ----------------------------------------------------------------------------------\n",
    "# The length of wound liquorrhea, days, 0 if No wound liquorrhea\n",
    "X = feature_generator(X, 'wound_liquorrhea_days', 'wound_liquorrhea')\n",
    "\n",
    "# ----------------------------------------------------------------------------------\n",
    "# Wound liquorrhea-days before infection\n",
    "X = feature_generator(X, 'wound_liquorrhea_days_bi', 'wound_liquorrhea',\n",
    "                      only_before_infection=True)\n",
    "\n",
    "# ----------------------------------------------------------------------------------\n",
    "# Wound liquorrhea before infection (binary)\n",
    "X.loc[:,'wound_liquorrhea_bi'] = X.loc[:,'wound_liquorrhea_days_bi'].apply(lambda x: 1 if x > 0 else 0)\n",
    "\n",
    "# ----------------------------------------------------------------------------------\n",
    "# On which day after the ICU admission wound liquorrhea started, 0 if No wound liquorrhea\n",
    "X = feature_generator(X, 'wound_liquorrhea_1st_day', 'wound_liquorrhea', agg_func='first_time')\n",
    "\n",
    "print('7')\n",
    "pb.pprint()\n",
    "\n",
    "\n",
    "############ 8 CSF leakage\n",
    "# ----------------------------------------------------------------------------------\n",
    "# The length of CSF leakage, days, 0 if No CSF leakage\n",
    "X = feature_generator(X, 'CSF_leakage_days', 'CSF_leakage')\n",
    "\n",
    "# ----------------------------------------------------------------------------------\n",
    "# CSF leakage-days before infection\n",
    "X = feature_generator(X, 'CSF_leakage_days_bi', 'CSF_leakage',\n",
    "                      only_before_infection=True)\n",
    "\n",
    "# ----------------------------------------------------------------------------------\n",
    "# CSF leakage before infection (binary)\n",
    "X.loc[:,'CSF_leakage_bi'] = X.loc[:,'CSF_leakage_days_bi'].apply(lambda x: 1 if x > 0 else 0)\n",
    "\n",
    "# ----------------------------------------------------------------------------------\n",
    "# On which day after the ICU admission CSF leakage started. 0 if No CSF leakage\n",
    "X = feature_generator(X, 'CSF_leakage_1st_day', 'CSF_leakage', agg_func='first_time')\n",
    "\n",
    "print('8')\n",
    "pb.pprint()\n",
    "\n",
    "\n",
    "########## 9 Antibiotics\n",
    "# ----------------------------------------------------------------------------------\n",
    "# The length of the antibiotic course, days\n",
    "X = feature_generator(X, 'a1', 'antibiotic_1')\n",
    "X = feature_generator(X, 'a2', 'antibiotic_2')\n",
    "X = feature_generator(X, 'a3', 'antibiotic_3')\n",
    "X = feature_generator(X, 'a4', 'antibiotic_4')\n",
    "\n",
    "X.loc[:,'antibiotics_binary'] = X.antibiotics_total.apply(lambda x: 1 if x > 0 else 0)\n",
    "X = feature_generator(X, 'antibiotics_days', 'antibiotics_binary')\n",
    "\n",
    "# ----------------------------------------------------------------------------------\n",
    "# Antibiotic-days before infection\n",
    "X = feature_generator(X, 'antibiotics_days_bi', 'antibiotics_binary', only_before_infection=True)\n",
    "\n",
    "# ----------------------------------------------------------------------------------\n",
    "# Antibiotics before infection (binary)\n",
    "X.loc[:,'antibiotics_bi'] = X.loc[:,'antibiotics_days_bi'].apply(lambda x: 1 if x > 0 else 0)\n",
    "\n",
    "# ----------------------------------------------------------------------------------\n",
    "# Mean number of antibiotics per day of all days of observation.\n",
    "X = feature_generator(X, 'mean_antibiotics_per_day', 'antibiotics_total', agg_func='mean')\n",
    "\n",
    "# ----------------------------------------------------------------------------------\n",
    "# Mean number of antibiotics per day before infection\n",
    "X = feature_generator(X, 'mean_antibiotics_per_day_bi', 'antibiotics_total',\n",
    "                      agg_func='mean', only_before_infection=True)\n",
    "print('9')\n",
    "pb.pprint()\n",
    "\n",
    "\n",
    "######## Charlson score. Does not change over time! Use first measurement\n",
    "# ----------------------------------------------------------------------------------\n",
    "# CHARLSON = first value for the patient\n",
    "X = feature_generator(X, 'CHARLSON_FIRST', 'CHARLSON', agg_func='first')\n",
    "\n",
    "print(\"Finished in..\")\n",
    "pb.pprint()\n",
    "\n",
    "\n",
    "# About 40 min, 39 new features"
   ]
  },
  {
   "cell_type": "code",
   "execution_count": 14,
   "metadata": {
    "collapsed": true
   },
   "outputs": [],
   "source": [
    "# Save intermediate dataset just in case\n",
    "\n",
    "SAVE_DUMP_1 = True\n",
    "\n",
    "if SAVE_DUMP_1:\n",
    "    with open(\"X1.pkl\", 'wb') as f:\n",
    "        pickle.dump(X, f)"
   ]
  },
  {
   "cell_type": "code",
   "execution_count": 15,
   "metadata": {},
   "outputs": [
    {
     "name": "stdout",
     "output_type": "stream",
     "text": [
      "Number of Rows:\t\t 40366\n",
      "Number of Columns:\t 176\n",
      "Unique IDs:\t\t 2286\n",
      "Columns:\t\t\n",
      " ['ID' 'ID_1' 'date' 'year' 'month' 'day_in_ICU' 'EVD' 'ICP_monitor'\n",
      " 'intubation_tube' 'central_line' 'invasive_BP' 'urinary_catheter'\n",
      " 'feeding_tube' 'pleural_drainage' 'mechanical_ventilation' 'FiO2'\n",
      " 'hypothermia' 'hemodialysis' 'total_parenteral_feeding'\n",
      " 'tracheal_sanations' 'purulent_sputum' 'X-ray_infiltration'\n",
      " 'intestinal_dysfunction' 'conscious_level' 'RASS' 'convulsions_day' 'PBSS'\n",
      " 'CSF_leakage' 'wound_liquorrhea' 'sedation' 'anxiolytics ' 'vasopressors'\n",
      " 'antibiotic_1' 'antibiotic_2' 'antibiotic_3' 'antibiotic_4'\n",
      " 'infection_CNS' 'infection_respiratory' 'infection_bloodstream'\n",
      " 'infection_urinary' 'infection_wound' 'infection_other' 'CHARLSON'\n",
      " 'antibiotics_total' 'temperature' 'cases' 'day_in_ICU_max'\n",
      " 'days_in_hospital' 'disease_id' 'disease_name' 'disease_type' 'gender'\n",
      " 'infection_CNS_date' 'ot_craniotomy' 'ot_craniotomy_len'\n",
      " 'ot_craniotomy_name' 'ot_device' 'ot_device_len' 'ot_device_name'\n",
      " 'ot_endonasal' 'ot_endonasal_len' 'ot_endonasal_name' 'ot_endovascular'\n",
      " 'ot_endovascular_len' 'ot_endovascular_name' 'ot_null' 'ot_null_len'\n",
      " 'ot_null_name' 'ot_other' 'ot_other_len' 'ot_other_name' 'ot_spinal'\n",
      " 'ot_spinal_len' 'ot_spinal_name' 'outcome' 'subid' 'age'\n",
      " 'infection_CNS_length' 'infection_CNS_days' 'infection_CNS_1st_day'\n",
      " 'EVD_days' 'EVD_days_bi' 'EVD_bi' 'EVD_1st_day' 'ICP_monitor_days'\n",
      " 'ICP_monitor_days_bi' 'ICP_monitor_bi' 'ICP_monitor_1st_day'\n",
      " 'intubation_tube_binary' 'intubation_tube_days' 'intubation_tube_days_bi'\n",
      " 'intubation_tube_bi' 'most_frequent_intubation_tube'\n",
      " 'most_frequent_intubation_tube_bi' 'central_line_days'\n",
      " 'central_line_days_bi' 'central_line_bi' 'central_line_1st_day'\n",
      " 'invasive_BP_days' 'invasive_BP_days_bi' 'invasive_BP_bi'\n",
      " 'invasive_BP_1st_day' 'urinary_catheter_days' 'urinary_catheter_days_bi'\n",
      " 'urinary_catheter_bi' 'urinary_catheter_1st_day' 'feeding_tube_days'\n",
      " 'feeding_tube_days_bi' 'feeding_tube_bi' 'feeding_tube_1st_day'\n",
      " 'pleural_drainage_days' 'pleural_drainage_days_bi' 'pleural_drainage_bi'\n",
      " 'mechanical_ventilation_days' 'mechanical_ventilation_days_bi'\n",
      " 'mechanical_ventilation_bi' 'mechanical_ventilation_1st_day'\n",
      " 'hypothermia_days_bi' 'hypothermia_bi' 'hemodialysis_days_bi'\n",
      " 'hemodialysis_bi' 'total_parenteral_feeding_days_bi'\n",
      " 'total_parenteral_feeding_bi' 'purulent_sputum_days_bi'\n",
      " 'purulent_sputum_bi' 'X-ray_infiltration_days_bi' 'X-ray_infiltration_bi'\n",
      " 'intestinal_dysfunction_days_bi' 'intestinal_dysfunction_bi'\n",
      " 'convulsions_day_days_bi' 'convulsions_day_bi' 'sedation_days_bi'\n",
      " 'sedation_bi' 'anxiolytics _days_bi' 'anxiolytics _bi'\n",
      " 'vasopressors_days_bi' 'vasopressors_bi' 'mean_FiO2' 'mean_FiO2_bi'\n",
      " 'mean_tracheal_sanations_per_day' 'mean_tracheal_sanations_per_day_bi'\n",
      " 'fever' 'fever_days' 'fever_days_bi' 'fever_bi' 'max_temperature'\n",
      " 'max_temperature_bi' 'min_conscious_level' 'min_conscious_level_bi'\n",
      " 'most_frequent_conscious_level' 'most_frequent_conscious_level_bi'\n",
      " 'most_frequent_conscious_level_binary'\n",
      " 'most_frequent_conscious_level_days_bi' 'min_RASS' 'min_RASS_bi'\n",
      " 'mean_PBSS' 'mean_PBSS_bi' 'wound_liquorrhea_days'\n",
      " 'wound_liquorrhea_days_bi' 'wound_liquorrhea_bi'\n",
      " 'wound_liquorrhea_1st_day' 'CSF_leakage_days' 'CSF_leakage_days_bi'\n",
      " 'CSF_leakage_bi' 'CSF_leakage_1st_day' 'a1' 'a2' 'a3' 'a4'\n",
      " 'antibiotics_binary' 'antibiotics_days' 'antibiotics_days_bi'\n",
      " 'antibiotics_bi' 'mean_antibiotics_per_day' 'mean_antibiotics_per_day_bi'\n",
      " 'CHARLSON_FIRST']\n"
     ]
    }
   ],
   "source": [
    "print_info(X)"
   ]
  },
  {
   "cell_type": "code",
   "execution_count": 16,
   "metadata": {},
   "outputs": [
    {
     "name": "stdout",
     "output_type": "stream",
     "text": [
      "0:57:26.542499\n",
      "1\n",
      "0:59:15.911650\n",
      "2\n",
      "1:00:46.551381\n",
      "3\n",
      "1:02:29.419045\n",
      "4\n",
      "1:04:06.023187\n",
      "Finished in..\n",
      "1:05:43.751607\n"
     ]
    }
   ],
   "source": [
    "LOAD_DUMP_1 = True\n",
    "if LOAD_DUMP_1:\n",
    "    f = open(\"X1.pkl\", \"rb\")\n",
    "    bin_data = f.read()\n",
    "    X = pickle.loads(bin_data)\n",
    "\n",
    "########################################## INFECTIONS\n",
    "pb.pprint()\n",
    "############ 1 Respiratory infection\n",
    "# ----------------------------------------------------------------------------------\n",
    "# The length of respiratory infection, days, 0 if No respiratory infection\n",
    "X = feature_generator(X, 'infection_respiratory_days', 'infection_respiratory', agg_func='sum')\n",
    "\n",
    "# ----------------------------------------------------------------------------------\n",
    "# Respiratory infection-days before infection\n",
    "X = feature_generator(X, 'infection_respiratory_days_bi', 'infection_respiratory',\n",
    "                      agg_func='sum', only_before_infection=True)\n",
    "\n",
    "# ----------------------------------------------------------------------------------\n",
    "# Respiratory infection before infection (binary)\n",
    "X.loc[:,'infection_respiratory_bi'] = X.loc[:,'infection_respiratory_days_bi'].apply(lambda x: 1 if x > 0 else 0)\n",
    "\n",
    "# ----------------------------------------------------------------------------------\n",
    "# On which day after the ICU admission respiratory infection started. 0 if No respiratory infection\n",
    "X = feature_generator(X, 'infection_respiratory_1st_day', 'infection_respiratory', agg_func='first_time')\n",
    "\n",
    "print('1')\n",
    "pb.pprint()\n",
    "\n",
    "\n",
    "########### 2 Bloodstream infection\n",
    "# ----------------------------------------------------------------------------------\n",
    "# The length of bloodstream infection, days, 0 if No bloodstream infection\n",
    "X = feature_generator(X, 'infection_bloodstream_days', 'infection_bloodstream', agg_func='sum')\n",
    "\n",
    "# ----------------------------------------------------------------------------------\n",
    "# Bloodstream infection-days before infection\n",
    "X = feature_generator(X, 'infection_bloodstream_days_bi', 'infection_bloodstream',\n",
    "                      agg_func='sum', only_before_infection=True)\n",
    "\n",
    "# ----------------------------------------------------------------------------------\n",
    "# Bloodstream infection before infection (binary)\n",
    "X.loc[:,'infection_bloodstream_bi'] = X.loc[:,'infection_bloodstream_days_bi'].apply(lambda x: 1 if x > 0 else 0)\n",
    "\n",
    "# ----------------------------------------------------------------------------------\n",
    "# 61 On which day after the ICU admission bloodstream infection started. 0 if No bloodstream infection\n",
    "X = feature_generator(X, 'infection_bloodstream_1st_day', 'infection_bloodstream', agg_func='first_time')\n",
    "\n",
    "print('2')\n",
    "pb.pprint()\n",
    "\n",
    "\n",
    "############ 3 Urinary infection\n",
    "# ----------------------------------------------------------------------------------\n",
    "# The length of urinary infection, days, 0 if No urinary infection\n",
    "X = feature_generator(X, 'infection_urinary_days', 'infection_urinary', agg_func='sum')\n",
    "\n",
    "# ----------------------------------------------------------------------------------\n",
    "# Urinary infection-days before infection\n",
    "X = feature_generator(X, 'infection_urinary_days_bi', 'infection_urinary',\n",
    "                      agg_func='sum', only_before_infection=True)\n",
    "\n",
    "# ----------------------------------------------------------------------------------\n",
    "# Urinary infection before infection (binary)\n",
    "X.loc[:,'infection_urinary_bi'] = X.loc[:,'infection_urinary_days_bi'].apply(lambda x: 1 if x > 0 else 0)\n",
    "\n",
    "# ----------------------------------------------------------------------------------\n",
    "# On which day after the ICU admission urinary infection started. 0 if No urinary infection\n",
    "X = feature_generator(X, 'infection_urinary_1st_day', 'infection_urinary', agg_func='first_time')\n",
    "\n",
    "print('3')\n",
    "pb.pprint()\n",
    "\n",
    "\n",
    "########## 4 Surgical site infections\n",
    "# ----------------------------------------------------------------------------------\n",
    "# The length of surgical site infection, days\n",
    "X = feature_generator(X, 'infection_wound_days', 'infection_wound', agg_func='sum')\n",
    "\n",
    "# ----------------------------------------------------------------------------------\n",
    "# SSI-days before infection\n",
    "X = feature_generator(X, 'infection_wound_days_bi', 'infection_wound',\n",
    "                      agg_func='sum', only_before_infection=True)\n",
    "\n",
    "# ----------------------------------------------------------------------------------\n",
    "# SSI before infection (binary)\n",
    "X.loc[:,'infection_wound_bi'] = X.loc[:,'infection_wound_days_bi'].apply(lambda x: 1 if x > 0 else 0)\n",
    "\n",
    "# ----------------------------------------------------------------------------------\n",
    "# On which day after the ICU admission surgical site infection started. 0 if No surgical site infection\n",
    "X = feature_generator(X, 'infection_wound_1st_day', 'infection_wound', agg_func='first_time')\n",
    "\n",
    "print('4')\n",
    "pb.pprint()\n",
    "\n",
    "\n",
    "############ 5 Other infections\n",
    "# ----------------------------------------------------------------------------------\n",
    "# The length of other infection, days\tInfection monitoring. Integrated\t0 if No other infection\n",
    "X = feature_generator(X, 'infection_other_days', 'infection_other', agg_func='sum')\n",
    "\n",
    "# ----------------------------------------------------------------------------------\n",
    "# Other infections-days before infection\n",
    "X = feature_generator(X, 'infection_other_days_bi', 'infection_other',\n",
    "                      agg_func='sum', only_before_infection=True)\n",
    "\n",
    "# ----------------------------------------------------------------------------------\n",
    "# Other infections before infection (binary)\n",
    "X.loc[:,'infection_other_bi'] = X.loc[:,'infection_other_days_bi'].apply(lambda x: 1 if x > 0 else 0)\n",
    "\n",
    "# ----------------------------------------------------------------------------------\n",
    "# On which day after the ICU admission other infection started. 0 if No other infection\n",
    "X = feature_generator(X, 'infection_other_1st_day', 'infection_other', agg_func='first_time')\n",
    "\n",
    "print(\"Finished in..\")\n",
    "pb.pprint()\n",
    "\n",
    "\n",
    "# About 10 min, 20 new features\n"
   ]
  },
  {
   "cell_type": "code",
   "execution_count": 17,
   "metadata": {
    "collapsed": true
   },
   "outputs": [],
   "source": [
    "# Save intermediate dataset just in case\n",
    "\n",
    "SAVE_DUMP_2 = True\n",
    "\n",
    "if SAVE_DUMP_2:\n",
    "    with open(\"X2.pkl\", 'wb') as f:\n",
    "        pickle.dump(X, f)"
   ]
  },
  {
   "cell_type": "code",
   "execution_count": 18,
   "metadata": {},
   "outputs": [
    {
     "name": "stdout",
     "output_type": "stream",
     "text": [
      "Number of Rows:\t\t 40366\n",
      "Number of Columns:\t 196\n",
      "Unique IDs:\t\t 2286\n",
      "Columns:\t\t\n",
      " ['ID' 'ID_1' 'date' 'year' 'month' 'day_in_ICU' 'EVD' 'ICP_monitor'\n",
      " 'intubation_tube' 'central_line' 'invasive_BP' 'urinary_catheter'\n",
      " 'feeding_tube' 'pleural_drainage' 'mechanical_ventilation' 'FiO2'\n",
      " 'hypothermia' 'hemodialysis' 'total_parenteral_feeding'\n",
      " 'tracheal_sanations' 'purulent_sputum' 'X-ray_infiltration'\n",
      " 'intestinal_dysfunction' 'conscious_level' 'RASS' 'convulsions_day' 'PBSS'\n",
      " 'CSF_leakage' 'wound_liquorrhea' 'sedation' 'anxiolytics ' 'vasopressors'\n",
      " 'antibiotic_1' 'antibiotic_2' 'antibiotic_3' 'antibiotic_4'\n",
      " 'infection_CNS' 'infection_respiratory' 'infection_bloodstream'\n",
      " 'infection_urinary' 'infection_wound' 'infection_other' 'CHARLSON'\n",
      " 'antibiotics_total' 'temperature' 'cases' 'day_in_ICU_max'\n",
      " 'days_in_hospital' 'disease_id' 'disease_name' 'disease_type' 'gender'\n",
      " 'infection_CNS_date' 'ot_craniotomy' 'ot_craniotomy_len'\n",
      " 'ot_craniotomy_name' 'ot_device' 'ot_device_len' 'ot_device_name'\n",
      " 'ot_endonasal' 'ot_endonasal_len' 'ot_endonasal_name' 'ot_endovascular'\n",
      " 'ot_endovascular_len' 'ot_endovascular_name' 'ot_null' 'ot_null_len'\n",
      " 'ot_null_name' 'ot_other' 'ot_other_len' 'ot_other_name' 'ot_spinal'\n",
      " 'ot_spinal_len' 'ot_spinal_name' 'outcome' 'subid' 'age'\n",
      " 'infection_CNS_length' 'infection_CNS_days' 'infection_CNS_1st_day'\n",
      " 'EVD_days' 'EVD_days_bi' 'EVD_bi' 'EVD_1st_day' 'ICP_monitor_days'\n",
      " 'ICP_monitor_days_bi' 'ICP_monitor_bi' 'ICP_monitor_1st_day'\n",
      " 'intubation_tube_binary' 'intubation_tube_days' 'intubation_tube_days_bi'\n",
      " 'intubation_tube_bi' 'most_frequent_intubation_tube'\n",
      " 'most_frequent_intubation_tube_bi' 'central_line_days'\n",
      " 'central_line_days_bi' 'central_line_bi' 'central_line_1st_day'\n",
      " 'invasive_BP_days' 'invasive_BP_days_bi' 'invasive_BP_bi'\n",
      " 'invasive_BP_1st_day' 'urinary_catheter_days' 'urinary_catheter_days_bi'\n",
      " 'urinary_catheter_bi' 'urinary_catheter_1st_day' 'feeding_tube_days'\n",
      " 'feeding_tube_days_bi' 'feeding_tube_bi' 'feeding_tube_1st_day'\n",
      " 'pleural_drainage_days' 'pleural_drainage_days_bi' 'pleural_drainage_bi'\n",
      " 'mechanical_ventilation_days' 'mechanical_ventilation_days_bi'\n",
      " 'mechanical_ventilation_bi' 'mechanical_ventilation_1st_day'\n",
      " 'hypothermia_days_bi' 'hypothermia_bi' 'hemodialysis_days_bi'\n",
      " 'hemodialysis_bi' 'total_parenteral_feeding_days_bi'\n",
      " 'total_parenteral_feeding_bi' 'purulent_sputum_days_bi'\n",
      " 'purulent_sputum_bi' 'X-ray_infiltration_days_bi' 'X-ray_infiltration_bi'\n",
      " 'intestinal_dysfunction_days_bi' 'intestinal_dysfunction_bi'\n",
      " 'convulsions_day_days_bi' 'convulsions_day_bi' 'sedation_days_bi'\n",
      " 'sedation_bi' 'anxiolytics _days_bi' 'anxiolytics _bi'\n",
      " 'vasopressors_days_bi' 'vasopressors_bi' 'mean_FiO2' 'mean_FiO2_bi'\n",
      " 'mean_tracheal_sanations_per_day' 'mean_tracheal_sanations_per_day_bi'\n",
      " 'fever' 'fever_days' 'fever_days_bi' 'fever_bi' 'max_temperature'\n",
      " 'max_temperature_bi' 'min_conscious_level' 'min_conscious_level_bi'\n",
      " 'most_frequent_conscious_level' 'most_frequent_conscious_level_bi'\n",
      " 'most_frequent_conscious_level_binary'\n",
      " 'most_frequent_conscious_level_days_bi' 'min_RASS' 'min_RASS_bi'\n",
      " 'mean_PBSS' 'mean_PBSS_bi' 'wound_liquorrhea_days'\n",
      " 'wound_liquorrhea_days_bi' 'wound_liquorrhea_bi'\n",
      " 'wound_liquorrhea_1st_day' 'CSF_leakage_days' 'CSF_leakage_days_bi'\n",
      " 'CSF_leakage_bi' 'CSF_leakage_1st_day' 'a1' 'a2' 'a3' 'a4'\n",
      " 'antibiotics_binary' 'antibiotics_days' 'antibiotics_days_bi'\n",
      " 'antibiotics_bi' 'mean_antibiotics_per_day' 'mean_antibiotics_per_day_bi'\n",
      " 'CHARLSON_FIRST' 'infection_respiratory_days'\n",
      " 'infection_respiratory_days_bi' 'infection_respiratory_bi'\n",
      " 'infection_respiratory_1st_day' 'infection_bloodstream_days'\n",
      " 'infection_bloodstream_days_bi' 'infection_bloodstream_bi'\n",
      " 'infection_bloodstream_1st_day' 'infection_urinary_days'\n",
      " 'infection_urinary_days_bi' 'infection_urinary_bi'\n",
      " 'infection_urinary_1st_day' 'infection_wound_days'\n",
      " 'infection_wound_days_bi' 'infection_wound_bi' 'infection_wound_1st_day'\n",
      " 'infection_other_days' 'infection_other_days_bi' 'infection_other_bi'\n",
      " 'infection_other_1st_day']\n"
     ]
    }
   ],
   "source": [
    "print_info(X)"
   ]
  },
  {
   "cell_type": "markdown",
   "metadata": {},
   "source": [
    "## Features from surgeries"
   ]
  },
  {
   "cell_type": "code",
   "execution_count": 15,
   "metadata": {
    "collapsed": true
   },
   "outputs": [],
   "source": [
    "# Load pkl file from step before\n",
    "\n",
    "LOAD_DUMP_2 = True\n",
    "if LOAD_DUMP_2:\n",
    "    f = open(\"X2.pkl\", \"rb\")\n",
    "    bin_data = f.read()\n",
    "    X = pickle.loads(bin_data)\n"
   ]
  },
  {
   "cell_type": "markdown",
   "metadata": {},
   "source": [
    "__Total number of surgeris (each type and all together)__"
   ]
  },
  {
   "cell_type": "code",
   "execution_count": 16,
   "metadata": {},
   "outputs": [
    {
     "name": "stderr",
     "output_type": "stream",
     "text": [
      "7it [00:06,  1.05it/s]\n",
      "7it [00:06,  1.07it/s]\n"
     ]
    }
   ],
   "source": [
    "# Count surgeries\n",
    "def agg_func(x):\n",
    "    # Возвращает длину списка в последней строке или np.Nan если в последней строке пусто\n",
    "    # Работает сразу для нескольких колонок\n",
    "    return len(x.iloc[-1]) if type(x.iloc[-1]) == list else x.iloc[-1]\n",
    "\n",
    "# Surgery name\n",
    "operations = [col for col in X.columns \n",
    "              if 'ot_' in col \n",
    "              and 'len' not in col \n",
    "              and 'name' not in col\n",
    "             ]\n",
    "\n",
    "# Before infection only\n",
    "new_cols = [val + '_count_bi' for val in operations]\n",
    "\n",
    "# Получаем результат во временный датафрейм\n",
    "tmp = X.loc[X.infection_CNS < 1,\n",
    "      ['ID_1'] + operations].groupby('ID_1').agg(agg_func)\n",
    "\n",
    "# Записываем вытаскивая построчно из tmp\n",
    "for col, new_col in tqdm.tqdm(zip(operations, new_cols)):\n",
    "    X.loc[:,new_col] = X.ID_1.apply(lambda x: tmp.loc[x,col] if x in tmp.index else np.nan)\n",
    "\n",
    "    \n",
    "\n",
    "# All surgeries\n",
    "new_cols = [val + '_count' for val in operations]\n",
    "\n",
    "# Получаем результат во временный датафрейм\n",
    "tmp = X.loc[:,['ID_1'] + operations].groupby('ID_1').agg(agg_func)\n",
    "\n",
    "# Записываем вытаскивая построчно из tmp\n",
    "for col, new_col in tqdm.tqdm(zip(operations, new_cols)):\n",
    "    X.loc[:,new_col] = X.ID_1.apply(lambda x: tmp.loc[x, col] if x in tmp.index else np.nan)"
   ]
  },
  {
   "cell_type": "code",
   "execution_count": 17,
   "metadata": {
    "collapsed": true
   },
   "outputs": [],
   "source": [
    "# Make binary from all \"ot_..._count\" columns, before infection and all time\n",
    "operations = [col for col in X.columns \n",
    "              if 'ot_' in col \n",
    "              and 'count' in col\n",
    "             ]\n",
    "\n",
    "new_cols = [col + '_binary' for col in X.columns \n",
    "            if 'ot_' in col\n",
    "            and 'count' in col\n",
    "           ]\n",
    "\n",
    "for col, new_col in zip(operations, new_cols):\n",
    "    X.loc[:,new_col] = (X.loc[:,col] > 0).astype('int64')"
   ]
  },
  {
   "cell_type": "code",
   "execution_count": 18,
   "metadata": {
    "collapsed": true
   },
   "outputs": [],
   "source": [
    "# Calculate total number (sum) of all surgeries \n",
    "\n",
    "# Before infection\n",
    "operations = [col for col in X.columns \n",
    "              if 'ot_' in col\n",
    "              and 'count_bi' in col\n",
    "              and '_len' not in col\n",
    "              and '_name' not in col\n",
    "              and '_null' not in col\n",
    "             ]\n",
    "\n",
    "col_name = 'ot_all_count_sum_bi'\n",
    "X.loc[:,col_name] = X.loc[:, operations].sum(axis=1)\n",
    "\n",
    "\n",
    "# During all time\n",
    "operations = [col for col in X.columns \n",
    "              if 'ot_' in col\n",
    "              and 'count' in col\n",
    "              and '_bi' not in col\n",
    "              and '_len' not in col\n",
    "              and '_name' not in col\n",
    "              and '_null' not in col\n",
    "             ]\n",
    "\n",
    "col_name = 'ot_all_count_sum'\n",
    "X.loc[:,col_name] = X.loc[:, operations].sum(axis=1)"
   ]
  },
  {
   "cell_type": "markdown",
   "metadata": {},
   "source": [
    "__ Total length of surgeris (each type)__"
   ]
  },
  {
   "cell_type": "code",
   "execution_count": 19,
   "metadata": {},
   "outputs": [
    {
     "name": "stderr",
     "output_type": "stream",
     "text": [
      "7it [00:07,  1.12s/it]\n"
     ]
    }
   ],
   "source": [
    "def agg_func(x):\n",
    "    # Возвращает длину списка в последней строке или np.Nan если в последней строке пусто\n",
    "    # Работает сразу для нескольких колонок\n",
    "    return sum(x.iloc[-1]) if type(x.iloc[-1]) == list else x.iloc[-1]\n",
    "\n",
    "# Before infection\n",
    "# Названия операций\n",
    "operations = [col for col in X.columns \n",
    "              if 'ot_' in col \n",
    "              and 'len' in col \n",
    "              and 'name' not in col\n",
    "              and 'count' not in col]\n",
    "\n",
    "new_cols = [val + '_sum_bi' for val in operations]\n",
    "\n",
    "# Получаем результат во временный датафрейм\n",
    "tmp = X.loc[X.infection_CNS < 1,\n",
    "      ['ID_1'] + operations].groupby('ID_1').agg(agg_func)\n",
    "\n",
    "# Записываем вытаскивая по-строчно из tmp\n",
    "for col, new_col in zip(operations, new_cols):\n",
    "    X.loc[:,new_col] = X.ID_1.apply(lambda x: tmp.loc[x,col] if x in tmp.index else np.nan)\n",
    "\n",
    "    \n",
    "\n",
    "# During all time\n",
    "# Названия операций\n",
    "operations = [col for col in X.columns \n",
    "              if 'ot_' in col \n",
    "              and 'len' in col \n",
    "              and 'name' not in col\n",
    "              and 'count' not in col\n",
    "              and '_bi' not in col\n",
    "             ]    \n",
    "new_cols = [val + '_sum' for val in operations]\n",
    "    \n",
    "# Получаем результат во временный датафрейм\n",
    "tmp = X.loc[:,['ID_1'] + operations].groupby('ID_1').agg(agg_func)\n",
    "\n",
    "# Записываем вытаскивая построчно из tmp\n",
    "for col, new_col in tqdm.tqdm(zip(operations, new_cols)):\n",
    "    X.loc[:,new_col] = X.ID_1.apply(lambda x: tmp.loc[x, col] if x in tmp.index else np.nan)"
   ]
  },
  {
   "cell_type": "markdown",
   "metadata": {},
   "source": [
    "### Other important new features"
   ]
  },
  {
   "cell_type": "code",
   "execution_count": 20,
   "metadata": {},
   "outputs": [
    {
     "name": "stderr",
     "output_type": "stream",
     "text": [
      "100%|██████████| 2286/2286 [00:48<00:00, 46.84it/s]\n"
     ]
    }
   ],
   "source": [
    "# Calculate total number of days in ICU for patient\n",
    "\n",
    "for idx in tqdm.tqdm(X.ID_1.unique()):\n",
    "    result = 0\n",
    "    for case in X.loc[X.ID_1 == idx, 'subid'].unique():\n",
    "        result = result + X.loc[(X.ID_1 == idx) & (X.subid == case),'day_in_ICU'].max()\n",
    "    X.loc[X.ID_1 == idx, 'days_in_ICU_total'] = result"
   ]
  },
  {
   "cell_type": "code",
   "execution_count": 21,
   "metadata": {
    "collapsed": true
   },
   "outputs": [],
   "source": [
    "# Repeated craniotomy before infection\n",
    "\n",
    "X.loc[:,'recraniotomy_bi'] = X.loc[:,'ot_craniotomy_count_bi'].apply(lambda x: 1 if x >= 2 else 0)"
   ]
  },
  {
   "cell_type": "code",
   "execution_count": 22,
   "metadata": {
    "collapsed": true
   },
   "outputs": [],
   "source": [
    "# On which day after the ICU admission mechanical_ventilation has been placed\n",
    "\n",
    "X = feature_generator(X, 'intestinal_dysfunction_1st_day', 'intestinal_dysfunction', agg_func='first_time')\n"
   ]
  },
  {
   "cell_type": "markdown",
   "metadata": {},
   "source": [
    "____"
   ]
  },
  {
   "cell_type": "code",
   "execution_count": 23,
   "metadata": {},
   "outputs": [
    {
     "data": {
      "text/plain": [
       "(2286, 242)"
      ]
     },
     "execution_count": 23,
     "metadata": {},
     "output_type": "execute_result"
    }
   ],
   "source": [
    "# Group data by ID_1 and create final dataset\n",
    "\n",
    "def agg_func(x):\n",
    "    if 'ot_' in x.name:\n",
    "        return x.iloc[-1]\n",
    "    return x.max()\n",
    "\n",
    "X_prime = X.groupby('ID_1').agg(agg_func)\n",
    "\n",
    "X_prime.shape"
   ]
  },
  {
   "cell_type": "code",
   "execution_count": 24,
   "metadata": {},
   "outputs": [
    {
     "data": {
      "text/plain": [
       "(2286, 233)"
      ]
     },
     "execution_count": 24,
     "metadata": {},
     "output_type": "execute_result"
    }
   ],
   "source": [
    "# drop unnecessary columns\n",
    "COLS_TO_DROP = ['day_in_ICU_max', 'ot_null_count',\n",
    "                'ot_null_len', 'ot_null_len_sum', 'ot_null', 'ot_null_name',\n",
    "               'ot_null_count_bi', 'ot_null_len_sum_bi', 'ot_null_count_bi_binary',]\n",
    "\n",
    "X_prime = X_prime.loc[:, ~X_prime.columns.isin(COLS_TO_DROP)]\n",
    "X_prime.shape"
   ]
  },
  {
   "cell_type": "code",
   "execution_count": 25,
   "metadata": {},
   "outputs": [
    {
     "data": {
      "text/plain": [
       "array([  0.,  nan,   4.,   3.,   2.,   1.])"
      ]
     },
     "execution_count": 25,
     "metadata": {},
     "output_type": "execute_result"
    }
   ],
   "source": [
    "# Check that operation-related columns before infection and all together are different\n",
    "\n",
    "(X_prime.loc[:, 'ot_device_count'] - X_prime.loc[:, 'ot_device_count_bi']).unique()"
   ]
  },
  {
   "cell_type": "markdown",
   "metadata": {},
   "source": [
    "### Save new monitoring & patients/cases datasets"
   ]
  },
  {
   "cell_type": "code",
   "execution_count": 26,
   "metadata": {
    "collapsed": true
   },
   "outputs": [],
   "source": [
    "# With new version every time\n",
    "\n",
    "X.to_csv('Monitoring_new_features_' + datetime.datetime.now().strftime('%m%d_%H%M') + '.csv')\n",
    "with open('Monitoring_new_features_' + datetime.datetime.now().strftime('%m%d_%H%M') + '.pkl',\n",
    "          'wb') as f:\n",
    "    pickle.dump(X, f)\n",
    "\n",
    "if DATABASE_CASES:\n",
    "    X_prime.to_csv('Cases_' + datetime.datetime.now().strftime('%m%d_%H%M') + '.csv')\n",
    "    with open('Cases_' + datetime.datetime.now().strftime('%m%d_%H%M') + '.pkl',\n",
    "          'wb') as f:\n",
    "        pickle.dump(X_prime, f)\n",
    "else:\n",
    "    X_prime.to_csv('Patients_' + datetime.datetime.now().strftime('%m%d_%H%M') + '.csv')\n",
    "    with open('Patients_' + datetime.datetime.now().strftime('%m%d_%H%M') + '.pkl', 'wb') as f:\n",
    "        pickle.dump(X_prime, f)\n"
   ]
  },
  {
   "cell_type": "markdown",
   "metadata": {},
   "source": [
    "___"
   ]
  }
 ],
 "metadata": {
  "anaconda-cloud": {},
  "kernelspec": {
   "display_name": "Python 3",
   "language": "python",
   "name": "python3"
  },
  "language_info": {
   "codemirror_mode": {
    "name": "ipython",
    "version": 3
   },
   "file_extension": ".py",
   "mimetype": "text/x-python",
   "name": "python",
   "nbconvert_exporter": "python",
   "pygments_lexer": "ipython3",
   "version": "3.5.3"
  }
 },
 "nbformat": 4,
 "nbformat_minor": 2
}
